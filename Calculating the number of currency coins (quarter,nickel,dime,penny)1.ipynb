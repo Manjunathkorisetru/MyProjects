{
 "cells": [
  {
   "cell_type": "code",
   "execution_count": 133,
   "metadata": {
    "scrolled": true
   },
   "outputs": [
    {
     "name": "stdout",
     "output_type": "stream",
     "text": [
      "Enter the number of cents: 100\n",
      "please give 4 quarters\n",
      "please give 0 dime\n",
      "please give 0 nickel\n",
      "please give 0 pennies\n",
      "total number of coins is : 4\n"
     ]
    }
   ],
   "source": [
    "import math\n",
    "def numberofcoins(x):\n",
    "    rem1=x%25\n",
    "    quarter=math.floor(x/25)\n",
    "    print(f'please give {quarter} quarters')\n",
    "    \n",
    "    rem2=rem1%10\n",
    "    dim=math.floor(rem1/10)\n",
    "    print(f'please give {dim} dime')\n",
    "    \n",
    "    rem3=rem2%5\n",
    "    nickel=math.floor(rem2/5)\n",
    "    print(f'please give {nickel} nickel')\n",
    "        \n",
    "    rem4=rem3%1\n",
    "    penny=math.floor(rem3/1)\n",
    "    print(f'please give {penny} pennies')\n",
    "    \n",
    "    total=quarter+dim+nickel+penny\n",
    "    \n",
    "    print(f'total number of coins is : {total}')\n",
    "\n",
    "\n",
    "cents = int(input('Enter the number of cents: '))\n",
    "numberofcoins(cents)"
   ]
  },
  {
   "cell_type": "code",
   "execution_count": null,
   "metadata": {},
   "outputs": [],
   "source": []
  },
  {
   "cell_type": "code",
   "execution_count": null,
   "metadata": {},
   "outputs": [],
   "source": [
    "\n"
   ]
  },
  {
   "cell_type": "code",
   "execution_count": null,
   "metadata": {},
   "outputs": [],
   "source": []
  },
  {
   "cell_type": "code",
   "execution_count": null,
   "metadata": {},
   "outputs": [],
   "source": []
  },
  {
   "cell_type": "code",
   "execution_count": null,
   "metadata": {
    "scrolled": true
   },
   "outputs": [],
   "source": []
  },
  {
   "cell_type": "code",
   "execution_count": null,
   "metadata": {},
   "outputs": [],
   "source": []
  },
  {
   "cell_type": "code",
   "execution_count": null,
   "metadata": {},
   "outputs": [],
   "source": []
  },
  {
   "cell_type": "code",
   "execution_count": null,
   "metadata": {},
   "outputs": [],
   "source": []
  },
  {
   "cell_type": "code",
   "execution_count": null,
   "metadata": {},
   "outputs": [],
   "source": []
  },
  {
   "cell_type": "code",
   "execution_count": 33,
   "metadata": {},
   "outputs": [],
   "source": []
  },
  {
   "cell_type": "code",
   "execution_count": null,
   "metadata": {},
   "outputs": [],
   "source": []
  },
  {
   "cell_type": "code",
   "execution_count": null,
   "metadata": {},
   "outputs": [],
   "source": []
  },
  {
   "cell_type": "code",
   "execution_count": null,
   "metadata": {},
   "outputs": [],
   "source": []
  }
 ],
 "metadata": {
  "kernelspec": {
   "display_name": "Python 3",
   "language": "python",
   "name": "python3"
  },
  "language_info": {
   "codemirror_mode": {
    "name": "ipython",
    "version": 3
   },
   "file_extension": ".py",
   "mimetype": "text/x-python",
   "name": "python",
   "nbconvert_exporter": "python",
   "pygments_lexer": "ipython3",
   "version": "3.7.3"
  }
 },
 "nbformat": 4,
 "nbformat_minor": 2
}
