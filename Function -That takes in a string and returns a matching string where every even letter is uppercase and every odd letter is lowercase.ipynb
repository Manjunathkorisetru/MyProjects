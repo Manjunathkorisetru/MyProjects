{
 "cells": [
  {
   "cell_type": "markdown",
   "metadata": {},
   "source": [
    "\n",
    "        The following function will give an output  a string which contain an Even Upper case and Odd lower case letters of the given input string \n",
    "        \n",
    "            \n",
    "   \n",
    "\n"
   ]
  },
  {
   "cell_type": "code",
   "execution_count": 10,
   "metadata": {},
   "outputs": [
    {
     "name": "stdout",
     "output_type": "stream",
     "text": [
      "Enter a string: 55.\n",
      "Please enter a string , your input is 55.0 a float value!\n"
     ]
    },
    {
     "data": {
      "text/plain": [
       "'55.'"
      ]
     },
     "execution_count": 10,
     "metadata": {},
     "output_type": "execute_result"
    }
   ],
   "source": [
    "def myfunc(s):\n",
    "    str=''\n",
    "    l=[]\n",
    "    for i in range(len(s)):\n",
    "        num = i%2\n",
    "        if num>0:\n",
    "            l.append(s[i].lower())\n",
    "        else:\n",
    "            l.append(s[i].upper())\n",
    "    return str.join(l)\n",
    "\n",
    "#taking the input in a variable name string \n",
    "a=input('Enter a string: ')\n",
    "\n",
    "try:\n",
    "    if '.' in a:\n",
    "        x = float(a)\n",
    "        print(f'Please enter a string , your input is {x} a float value!')\n",
    "    else:\n",
    "        x = int(a)\n",
    "        print(f'Please enter a string , your input is {x} a int value!')\n",
    "except:\n",
    "        print(\"Input a string\")\n",
    "\n",
    "myfunc(a)\n"
   ]
  }
 ],
 "metadata": {
  "kernelspec": {
   "display_name": "Python 3",
   "language": "python",
   "name": "python3"
  },
  "language_info": {
   "codemirror_mode": {
    "name": "ipython",
    "version": 3
   },
   "file_extension": ".py",
   "mimetype": "text/x-python",
   "name": "python",
   "nbconvert_exporter": "python",
   "pygments_lexer": "ipython3",
   "version": "3.7.3"
  }
 },
 "nbformat": 4,
 "nbformat_minor": 2
}
