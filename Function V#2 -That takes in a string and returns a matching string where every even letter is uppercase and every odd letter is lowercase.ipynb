{
 "cells": [
  {
   "cell_type": "markdown",
   "metadata": {},
   "source": [
    "The following function will give an output  a string which contain an Even Upper case and Odd lower case letters of the given input string "
   ]
  },
  {
   "cell_type": "code",
   "execution_count": 12,
   "metadata": {},
   "outputs": [
    {
     "name": "stdout",
     "output_type": "stream",
     "text": [
      "Enter a string: Hello github\n",
      "The final output is --> HeLlO GiThUb\n"
     ]
    }
   ],
   "source": [
    "def myfunc(s):\n",
    "    str=''\n",
    "    l=[]\n",
    "    for i in range(len(s)):\n",
    "        num = i%2\n",
    "        if num>0:\n",
    "            l.append(s[i].lower())\n",
    "        else:\n",
    "            l.append(s[i].upper())\n",
    "    return str.join(l)\n",
    "\n",
    "\n",
    "a=input('Enter a string: ')\n",
    "\n",
    "if  \".\" in a:\n",
    "    x = float(a)\n",
    "    print(f'Please enter a string , your input is {x} a float value!')\n",
    "elif (a.isdigit()):\n",
    "    print('Please enter a string , your input is a int value!')\n",
    "else:\n",
    "    print(f'The final output is --> { myfunc(a) }')\n"
   ]
  },
  {
   "cell_type": "code",
   "execution_count": null,
   "metadata": {},
   "outputs": [],
   "source": []
  }
 ],
 "metadata": {
  "kernelspec": {
   "display_name": "Python 3",
   "language": "python",
   "name": "python3"
  },
  "language_info": {
   "codemirror_mode": {
    "name": "ipython",
    "version": 3
   },
   "file_extension": ".py",
   "mimetype": "text/x-python",
   "name": "python",
   "nbconvert_exporter": "python",
   "pygments_lexer": "ipython3",
   "version": "3.7.3"
  }
 },
 "nbformat": 4,
 "nbformat_minor": 2
}
