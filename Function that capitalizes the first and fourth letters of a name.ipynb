{
 "cells": [
  {
   "cell_type": "code",
   "execution_count": null,
   "metadata": {},
   "outputs": [],
   "source": [
    "a function that capitalizes the first and fourth letters of a name"
   ]
  },
  {
   "cell_type": "code",
   "execution_count": 58,
   "metadata": {},
   "outputs": [
    {
     "name": "stdout",
     "output_type": "stream",
     "text": [
      "Enter a string: github\n",
      "The final output is --> GitHub\n"
     ]
    }
   ],
   "source": [
    "def capt(name):\n",
    "    str=''\n",
    "    l=[]\n",
    "    for i in range(len(name)):\n",
    "        if i==0:\n",
    "            l.append(name[0].upper())\n",
    "        elif i==3:\n",
    "            l.append(name[3].upper())\n",
    "        else:\n",
    "            l.append(name[i])\n",
    "    return str.join(l)\n",
    "\n",
    "a=input('Enter a string: ')\n",
    "\n",
    "if  \".\" in a:\n",
    "    x = float(a)\n",
    "    print(f'Please enter a string , your input is {x} a float value!')\n",
    "elif (a.isdigit()):\n",
    "    print('Please enter a string , your input is a int value!')\n",
    "else:\n",
    "    print(f'The final output is --> { capt(a) }')"
   ]
  },
  {
   "cell_type": "code",
   "execution_count": null,
   "metadata": {},
   "outputs": [],
   "source": []
  }
 ],
 "metadata": {
  "kernelspec": {
   "display_name": "Python 3",
   "language": "python",
   "name": "python3"
  },
  "language_info": {
   "codemirror_mode": {
    "name": "ipython",
    "version": 3
   },
   "file_extension": ".py",
   "mimetype": "text/x-python",
   "name": "python",
   "nbconvert_exporter": "python",
   "pygments_lexer": "ipython3",
   "version": "3.7.3"
  }
 },
 "nbformat": 4,
 "nbformat_minor": 2
}
