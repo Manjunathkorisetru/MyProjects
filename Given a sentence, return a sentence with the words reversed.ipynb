{
 "cells": [
  {
   "cell_type": "markdown",
   "metadata": {},
   "source": [
    "Given a sentence, return a sentence with the words reversed"
   ]
  },
  {
   "cell_type": "code",
   "execution_count": 11,
   "metadata": {},
   "outputs": [
    {
     "name": "stdout",
     "output_type": "stream",
     "text": [
      "Enter a string:   It's a good day!!!\n",
      "Reversed sentence:  day!!! good a It's\n"
     ]
    }
   ],
   "source": [
    "def rev(text):\n",
    "    st=\" \"\n",
    "    l=[]\n",
    "    a = len(text)\n",
    "    for i in reversed(text.split()):\n",
    "        l.append(i)\n",
    "    return st.join(l)\n",
    "\n",
    "txt=input('Enter a string:   ')\n",
    "\n",
    "if  \".\" in txt:\n",
    "    x = float(txt)\n",
    "    print(f'Please enter a string , your input is {x} a float value!')\n",
    "elif (txt.isdigit()):\n",
    "    print('Please enter a string , your input is a int value!')\n",
    "else:\n",
    "    print(f'Reversed sentence:  { rev(txt) }')\n",
    "    print('manjunath')\n",
    "        \n",
    "    "
   ]
  },
  {
   "cell_type": "code",
   "execution_count": null,
   "metadata": {},
   "outputs": [],
   "source": []
  }
 ],
 "metadata": {
  "kernelspec": {
   "display_name": "Python 3",
   "language": "python",
   "name": "python3"
  },
  "language_info": {
   "codemirror_mode": {
    "name": "ipython",
    "version": 3
   },
   "file_extension": ".py",
   "mimetype": "text/x-python",
   "name": "python",
   "nbconvert_exporter": "python",
   "pygments_lexer": "ipython3",
   "version": "3.7.3"
  }
 },
 "nbformat": 4,
 "nbformat_minor": 2
}
