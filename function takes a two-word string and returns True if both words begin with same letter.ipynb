{
 "cells": [
  {
   "cell_type": "markdown",
   "metadata": {},
   "source": [
    "a function takes a two-word string and returns True if both words begin with same letter"
   ]
  },
  {
   "cell_type": "code",
   "execution_count": 5,
   "metadata": {},
   "outputs": [
    {
     "name": "stdout",
     "output_type": "stream",
     "text": [
      "please enter two word string:Git git\n",
      "True\n"
     ]
    }
   ],
   "source": [
    "def animal_crackers(text):\n",
    "    l=text.split()\n",
    "    if l[0][0] == l[1][0]:\n",
    "        return True\n",
    "    else:\n",
    "        return False\n",
    "\n",
    "a = input('please enter two word string:')\n",
    "a=a.lower()\n",
    "\n",
    "if a.count(' ')>1:\n",
    "    print(\"please enter only two word string!\")\n",
    "    pass\n",
    "else:\n",
    "    print(f'{animal_crackers(a)}')\n"
   ]
  }
 ],
 "metadata": {
  "kernelspec": {
   "display_name": "Python 3",
   "language": "python",
   "name": "python3"
  }
 },
 "nbformat": 4,
 "nbformat_minor": 2
}
